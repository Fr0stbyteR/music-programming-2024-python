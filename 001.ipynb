{
 "cells": [
  {
   "cell_type": "markdown",
   "metadata": {},
   "source": [
    "# Pytnon Notebook 1"
   ]
  },
  {
   "cell_type": "code",
   "execution_count": 7,
   "metadata": {},
   "outputs": [
    {
     "name": "stdout",
     "output_type": "stream",
     "text": [
      "Python 3.10.11\n"
     ]
    }
   ],
   "source": [
    "!python --version"
   ]
  },
  {
   "cell_type": "code",
   "execution_count": 9,
   "metadata": {},
   "outputs": [
    {
     "name": "stdout",
     "output_type": "stream",
     "text": [
      "<class 'float'>\n",
      "<class 'int'>\n"
     ]
    }
   ],
   "source": [
    "x = 0.2\n",
    "print(type(x + 0.1))\n",
    "print(type(2))"
   ]
  },
  {
   "cell_type": "code",
   "execution_count": 15,
   "metadata": {},
   "outputs": [
    {
     "name": "stdout",
     "output_type": "stream",
     "text": [
      "25\n",
      "5.2 6.2 4.2 2.6 2.0 1.2000000000000002\n"
     ]
    }
   ],
   "source": [
    "print(5 ** 2)\n",
    "# x *= 2 # x = x * 2\n",
    "x = 5.2\n",
    "print(x, x + 1, x - 1, x / 2, x // 2, x % 2)"
   ]
  },
  {
   "cell_type": "code",
   "execution_count": 18,
   "metadata": {},
   "outputs": [
    {
     "name": "stdout",
     "output_type": "stream",
     "text": [
      "<class 'bool'> <class 'bool'>\n",
      "True False False True False True\n",
      "False True False True\n"
     ]
    }
   ],
   "source": [
    "t, f = True, False\n",
    "print(type(t), type(f))\n",
    "print(t, f, t and f, t or f, not t, not f)\n",
    "print(t == f, t != f, t is f, t is not f)"
   ]
  },
  {
   "cell_type": "code",
   "execution_count": 23,
   "metadata": {},
   "outputs": [
    {
     "name": "stdout",
     "output_type": "stream",
     "text": [
      "he'll\"owo\"rl'd\n",
      "he'll\"ohe'll\"ohe'll\"o\n",
      "21\n",
      "h e o \"\n"
     ]
    }
   ],
   "source": [
    "hello = \"he'll\\\"o\"\n",
    "world = 'wo\"rl\\'d'\n",
    "# print(hello, world)\n",
    "print(hello + world)\n",
    "print(hello * 3)\n",
    "print(len(hello * 3))\n",
    "print(hello[0], hello[1], hello[-1], hello[-2])"
   ]
  },
  {
   "cell_type": "code",
   "execution_count": null,
   "metadata": {},
   "outputs": [
    {
     "name": "stdout",
     "output_type": "stream",
     "text": [
      "He'll\"o\n",
      "HE'LL\"O\n",
      "HEEEEEEE'll\"o\n"
     ]
    }
   ],
   "source": [
    "print(hello.capitalize())\n",
    "print(hello.upper())\n",
    "print(hello.replace(\"he\", \"HEEEEEEE\"))"
   ]
  },
  {
   "cell_type": "code",
   "execution_count": 28,
   "metadata": {},
   "outputs": [
    {
     "name": "stdout",
     "output_type": "stream",
     "text": [
      "1 5\n"
     ]
    }
   ],
   "source": [
    "# List\n",
    "list1 = [1, 2, 3, 4, 5]\n",
    "print(list1[0], list1[-1])"
   ]
  },
  {
   "cell_type": "code",
   "execution_count": null,
   "metadata": {},
   "outputs": [
    {
     "name": "stdout",
     "output_type": "stream",
     "text": [
      "[1, 2, 90, 4, 5]\n"
     ]
    }
   ],
   "source": [
    "list1[2] = 90\n",
    "print(list1)"
   ]
  },
  {
   "cell_type": "code",
   "execution_count": 34,
   "metadata": {},
   "outputs": [
    {
     "name": "stdout",
     "output_type": "stream",
     "text": [
      "[1, 2, 3, 4, 20]\n",
      "5\n"
     ]
    }
   ],
   "source": [
    "list2 = [1, 2, 3, 4, 5]\n",
    "list2.pop()\n",
    "list2.append(20)\n",
    "print(list2)\n",
    "print(len(list2))"
   ]
  },
  {
   "cell_type": "code",
   "execution_count": 43,
   "metadata": {},
   "outputs": [
    {
     "name": "stdout",
     "output_type": "stream",
     "text": [
      "[3, 4]\n",
      "[3, 4, 20]\n",
      "[1, 2, 3]\n",
      "[1, 2, 3, 4, 20]\n",
      "[3, 4]\n",
      "[1, 2, 100, 200, 20]\n"
     ]
    }
   ],
   "source": [
    "print(list2[2:4])\n",
    "print(list2[2:])\n",
    "print(list2[:3])\n",
    "# list3 = list2[:]\n",
    "print(list2[:])\n",
    "print(list2[-3:-1])\n",
    "list2[-3:-1] = [100, 200]\n",
    "print(list2)\n"
   ]
  },
  {
   "cell_type": "code",
   "execution_count": null,
   "metadata": {},
   "outputs": [
    {
     "name": "stdout",
     "output_type": "stream",
     "text": [
      "1\n",
      "4\n",
      "10000\n",
      "40000\n",
      "400\n",
      "[1, 2, 100, 200, 20]\n"
     ]
    }
   ],
   "source": [
    "# Loop\n",
    "for x in list2:\n",
    "    print(x ** 2)\n",
    "print(list2)"
   ]
  },
  {
   "cell_type": "code",
   "execution_count": 50,
   "metadata": {},
   "outputs": [
    {
     "name": "stdout",
     "output_type": "stream",
     "text": [
      "[0, 1, 2, 3, 4, 5, 6, 7, 8, 9]\n",
      "1\n",
      "2\n",
      "3\n",
      "4\n",
      "5\n",
      "6\n",
      "7\n",
      "8\n",
      "9\n"
     ]
    }
   ],
   "source": [
    "print(list(range(10)))\n",
    "for i in range(1, 10):\n",
    "    print(i)"
   ]
  },
  {
   "cell_type": "code",
   "execution_count": 56,
   "metadata": {},
   "outputs": [
    {
     "name": "stdout",
     "output_type": "stream",
     "text": [
      "[(0, 'cat'), (1, 'dog'), (2, 'fish')]\n",
      "0 cat\n",
      "1 dog\n",
      "2 fish\n"
     ]
    }
   ],
   "source": [
    "animals = ['cat', 'dog', 'fish']\n",
    "print(list(enumerate(animals)))\n",
    "for index, animal in enumerate(animals):\n",
    "    print(index, animal)"
   ]
  },
  {
   "cell_type": "code",
   "execution_count": null,
   "metadata": {},
   "outputs": [
    {
     "name": "stdout",
     "output_type": "stream",
     "text": [
      "李泽诚\n"
     ]
    }
   ],
   "source": [
    "dict1 = {\n",
    "\"11241113\": \"李泽诚\",\n",
    "\"11241114\": \"陆弯弯\",\n",
    "\"11241116\": \"吴亦诺\",\n",
    "\"11241118\": \"孙李泓\",\n",
    "\"11241119\": \"毕懋辰\",\n",
    "\"11241120\": \"贺彦\",\n",
    "\"11241121\": \"周子轩\",\n",
    "\"11241122\": \"程宥媛\",\n",
    "\"11241123\": \"高婧蓉\",\n",
    "\"11241124\": \"刘泽南\",\n",
    "\"11241125\": \"费梦瑶\",\n",
    "\"11241126\": \"黄一絮\",\n",
    "\"11241127\": \"殷可迪\",\n",
    "\"11241128\": \"傅歆语\",\n",
    "\"11241129\": \"刘卓元\",\n",
    "\"11241130\": \"陈添乐\",\n",
    "\"11241131\": \"吴启文\",\n",
    "\"11241132\": \"龚爱莉\",\n",
    "\"11241133\": \"汤小雨\",\n",
    "\"11241134\": \"范诗雨\",\n",
    "\"11241135\": \"肖展悦\",\n",
    "\"11241136\": \"赵李衡\",\n",
    "\"11241137\": \"吕博雅\",\n",
    "\"11241138\": \"邹与时\",\n",
    "\"11241139\": \"陈醉\",\n",
    "\"11241140\": \"麦书悦\",\n",
    "\"11241141\": \"谢逸辰\",\n",
    "\"11241142\": \"鱼泽灏\",\n",
    "\"11241143\": \"殷蕴函\",\n",
    "\"11241144\": \"田悠嘉\",\n",
    "\"11241145\": \"赵博凡\",\n",
    "\"11241146\": \"叶哲灏\",\n",
    "\"11241147\": \"赵翊云\",\n",
    "\"11241148\": \"陈林演\",\n",
    "\"11241149\": \"段若溪\",\n",
    "\"11241151\": \"曾晴\",\n",
    "\"11241152\": \"滕荣\",\n",
    "\"11241153\": \"华珺玥\",\n",
    "\"11241154\": \"罗义舟\",\n",
    "\"11241155\": \"徐斯羽\",\n",
    "\"11241156\": \"郝若辰\",\n",
    "} # Key - value pairs\n"
   ]
  },
  {
   "cell_type": "code",
   "execution_count": 11,
   "metadata": {},
   "outputs": [
    {
     "name": "stdout",
     "output_type": "stream",
     "text": [
      "True\n",
      "N/A\n",
      "dict_keys(['11241113', '11241114', '11241116', '11241118', '11241119', '11241120', '11241121', '11241122', '11241123', '11241124', '11241125', '11241126', '11241127', '11241128', '11241129', '11241130', '11241131', '11241132', '11241133', '11241134', '11241135', '11241136', '11241137', '11241138', '11241139', '11241140', '11241141', '11241142', '11241143', '11241144', '11241145', '11241146', '11241147', '11241148', '11241149', '11241151', '11241152', '11241153', '11241154', '11241155', '11241156'])\n",
      "dict_values(['李泽诚', '陆弯弯', '吴亦诺', '孙李泓', '毕懋辰', '贺彦', '周子轩', '程宥媛', '高婧蓉', '刘泽南', '费梦瑶', '黄一絮', '殷可迪', '傅歆语', '刘卓元', '陈添乐', '吴启文', '龚爱莉', '汤小雨', '范诗雨', '肖展悦', '赵李衡', '吕博雅', '邹与时', '陈醉', '麦书悦', '谢逸辰', '鱼泽灏', '殷蕴函', '田悠嘉', '赵博凡', '叶哲灏', '赵翊云', '陈林演', '段若溪', '曾晴', '滕荣', '华珺玥', '罗义舟', '徐斯羽', '郝若辰'])\n",
      "dict_items([('11241113', '李泽诚'), ('11241114', '陆弯弯'), ('11241116', '吴亦诺'), ('11241118', '孙李泓'), ('11241119', '毕懋辰'), ('11241120', '贺彦'), ('11241121', '周子轩'), ('11241122', '程宥媛'), ('11241123', '高婧蓉'), ('11241124', '刘泽南'), ('11241125', '费梦瑶'), ('11241126', '黄一絮'), ('11241127', '殷可迪'), ('11241128', '傅歆语'), ('11241129', '刘卓元'), ('11241130', '陈添乐'), ('11241131', '吴启文'), ('11241132', '龚爱莉'), ('11241133', '汤小雨'), ('11241134', '范诗雨'), ('11241135', '肖展悦'), ('11241136', '赵李衡'), ('11241137', '吕博雅'), ('11241138', '邹与时'), ('11241139', '陈醉'), ('11241140', '麦书悦'), ('11241141', '谢逸辰'), ('11241142', '鱼泽灏'), ('11241143', '殷蕴函'), ('11241144', '田悠嘉'), ('11241145', '赵博凡'), ('11241146', '叶哲灏'), ('11241147', '赵翊云'), ('11241148', '陈林演'), ('11241149', '段若溪'), ('11241151', '曾晴'), ('11241152', '滕荣'), ('11241153', '华珺玥'), ('11241154', '罗义舟'), ('11241155', '徐斯羽'), ('11241156', '郝若辰')])\n"
     ]
    }
   ],
   "source": [
    "print(\"11241113\" in dict1)\n",
    "dict1[\"00000001\"] = \"张三\"\n",
    "del dict1[\"00000001\"]\n",
    "print(dict1.get(\"00000001\", \"N/A\"))\n",
    "print(dict1.keys())\n",
    "print(dict1.values())\n",
    "print(dict1.items())"
   ]
  },
  {
   "cell_type": "code",
   "execution_count": 29,
   "metadata": {},
   "outputs": [
    {
     "name": "stdout",
     "output_type": "stream",
     "text": [
      "黄一絮\n"
     ]
    }
   ],
   "source": [
    "import random\n",
    "print(random.choice(list(dict1.values())))"
   ]
  },
  {
   "cell_type": "code",
   "execution_count": 32,
   "metadata": {},
   "outputs": [
    {
     "name": "stdout",
     "output_type": "stream",
     "text": [
      "11241113 李泽诚Σ(⊙▽⊙\"Σ(⊙▽⊙\"\n",
      "11241114 陆弯弯Σ(⊙▽⊙\"Σ(⊙▽⊙\"\n",
      "11241116 吴亦诺Σ(⊙▽⊙\"Σ(⊙▽⊙\"\n",
      "11241118 孙李泓Σ(⊙▽⊙\"Σ(⊙▽⊙\"\n",
      "11241119 毕懋辰Σ(⊙▽⊙\"Σ(⊙▽⊙\"\n",
      "11241120 贺彦Σ(⊙▽⊙\"Σ(⊙▽⊙\"\n",
      "11241121 周子轩Σ(⊙▽⊙\"Σ(⊙▽⊙\"\n",
      "11241122 程宥媛Σ(⊙▽⊙\"Σ(⊙▽⊙\"\n",
      "11241123 高婧蓉Σ(⊙▽⊙\"Σ(⊙▽⊙\"\n",
      "11241124 刘泽南Σ(⊙▽⊙\"Σ(⊙▽⊙\"\n",
      "11241125 费梦瑶Σ(⊙▽⊙\"Σ(⊙▽⊙\"\n",
      "11241126 黄一絮Σ(⊙▽⊙\"Σ(⊙▽⊙\"\n",
      "11241127 殷可迪Σ(⊙▽⊙\"Σ(⊙▽⊙\"\n",
      "11241128 傅歆语Σ(⊙▽⊙\"Σ(⊙▽⊙\"\n",
      "11241129 刘卓元Σ(⊙▽⊙\"Σ(⊙▽⊙\"\n",
      "11241130 陈添乐Σ(⊙▽⊙\"Σ(⊙▽⊙\"\n",
      "11241131 吴启文Σ(⊙▽⊙\"Σ(⊙▽⊙\"\n",
      "11241132 龚爱莉Σ(⊙▽⊙\"Σ(⊙▽⊙\"\n",
      "11241133 汤小雨Σ(⊙▽⊙\"Σ(⊙▽⊙\"\n",
      "11241134 范诗雨Σ(⊙▽⊙\"Σ(⊙▽⊙\"\n",
      "11241135 肖展悦Σ(⊙▽⊙\"Σ(⊙▽⊙\"\n",
      "11241136 赵李衡Σ(⊙▽⊙\"Σ(⊙▽⊙\"\n",
      "11241137 吕博雅Σ(⊙▽⊙\"Σ(⊙▽⊙\"\n",
      "11241138 邹与时Σ(⊙▽⊙\"Σ(⊙▽⊙\"\n",
      "11241139 陈醉Σ(⊙▽⊙\"Σ(⊙▽⊙\"\n",
      "11241140 麦书悦Σ(⊙▽⊙\"Σ(⊙▽⊙\"\n",
      "11241141 谢逸辰Σ(⊙▽⊙\"Σ(⊙▽⊙\"\n",
      "11241142 鱼泽灏Σ(⊙▽⊙\"Σ(⊙▽⊙\"\n",
      "11241143 殷蕴函Σ(⊙▽⊙\"Σ(⊙▽⊙\"\n",
      "11241144 田悠嘉Σ(⊙▽⊙\"Σ(⊙▽⊙\"\n",
      "11241145 赵博凡Σ(⊙▽⊙\"Σ(⊙▽⊙\"\n",
      "11241146 叶哲灏Σ(⊙▽⊙\"Σ(⊙▽⊙\"\n",
      "11241147 赵翊云Σ(⊙▽⊙\"Σ(⊙▽⊙\"\n",
      "11241148 陈林演Σ(⊙▽⊙\"Σ(⊙▽⊙\"\n",
      "11241149 段若溪Σ(⊙▽⊙\"Σ(⊙▽⊙\"\n",
      "11241151 曾晴Σ(⊙▽⊙\"Σ(⊙▽⊙\"\n",
      "11241152 滕荣Σ(⊙▽⊙\"Σ(⊙▽⊙\"\n",
      "11241153 华珺玥Σ(⊙▽⊙\"Σ(⊙▽⊙\"\n",
      "11241154 罗义舟Σ(⊙▽⊙\"Σ(⊙▽⊙\"\n",
      "11241155 徐斯羽Σ(⊙▽⊙\"Σ(⊙▽⊙\"\n",
      "11241156 郝若辰Σ(⊙▽⊙\"Σ(⊙▽⊙\"\n"
     ]
    }
   ],
   "source": [
    "for key, value in dict1.items():\n",
    "    dict1[key] = value + 'Σ(⊙▽⊙\"'\n",
    "    print(key, dict1[key])"
   ]
  },
  {
   "cell_type": "code",
   "execution_count": 36,
   "metadata": {},
   "outputs": [
    {
     "name": "stdout",
     "output_type": "stream",
     "text": [
      "{0: 0, 1: 1, 2: 4, 3: 9, 4: 16, 5: 25, 6: 36, 7: 49, 8: 64, 9: 81}\n"
     ]
    }
   ],
   "source": [
    "list3 = list(range(10))\n",
    "dict2 = { x: x ** 2 for x in list3 }\n",
    "print(dict2)"
   ]
  },
  {
   "cell_type": "code",
   "execution_count": 42,
   "metadata": {},
   "outputs": [
    {
     "name": "stdout",
     "output_type": "stream",
     "text": [
      "True\n",
      "{'dog', 'fish', 'cat', 'frog'}\n",
      "4\n"
     ]
    }
   ],
   "source": [
    "# set\n",
    "animals = {'cat', 'dog', 'fish'}\n",
    "animals.add('cat')\n",
    "animals.add('frog')\n",
    "print('frog' in animals)\n",
    "print(animals)\n",
    "print(len(animals))"
   ]
  },
  {
   "cell_type": "code",
   "execution_count": null,
   "metadata": {},
   "outputs": [
    {
     "name": "stdout",
     "output_type": "stream",
     "text": [
      "{'cat', 'pig', 'cow', 'dog', 'fish', 'frog'}\n",
      "{'dog'}\n",
      "{'fish', 'cat', 'frog'}\n"
     ]
    }
   ],
   "source": [
    "other_animals = {\"cow\", \"pig\", \"dog\"}\n",
    "# 打印两个集合的并集\n",
    "print(animals.union(other_animals))\n",
    "\n",
    "# 打印两个集合的交集\n",
    "print(animals.intersection(other_animals))\n",
    "\n",
    "# 打印集合 animals 相对于集合 other_animals 的差集\n",
    "print(animals.difference(other_animals))"
   ]
  },
  {
   "cell_type": "code",
   "execution_count": 49,
   "metadata": {},
   "outputs": [
    {
     "name": "stdout",
     "output_type": "stream",
     "text": [
      "<class 'tuple'>\n",
      "{(0, 1): 0, (1, 2): 1, (2, 3): 2, (3, 4): 3, (4, 5): 4, (5, 6): 5, (6, 7): 6, (7, 8): 7, (8, 9): 8, (9, 10): 9}\n",
      "2\n"
     ]
    }
   ],
   "source": [
    "# tuples 元组\n",
    "d = {(x, x + 1): x for x in range(10)}\n",
    "t = (2, 3)\n",
    "print(type(t))\n",
    "print(d)\n",
    "print(d[t])"
   ]
  },
  {
   "cell_type": "code",
   "execution_count": null,
   "metadata": {},
   "outputs": [
    {
     "name": "stdout",
     "output_type": "stream",
     "text": [
      "negative\n",
      "zero\n",
      "positive\n"
     ]
    }
   ],
   "source": [
    "# functions\n",
    "# def sign(x):\n",
    "def sign(x: int) -> str:\n",
    "    if x > 0:\n",
    "        return 'positive'\n",
    "    elif x < 0: \n",
    "        return 'negative'\n",
    "    else:\n",
    "        return 'zero'\n",
    "for x in [-1, 0, 1]:\n",
    "    print(sign(x))"
   ]
  },
  {
   "cell_type": "code",
   "execution_count": null,
   "metadata": {},
   "outputs": [],
   "source": [
    "def factorial(n: int) -> int:\n",
    "    if n == 0 or n == 1:\n",
    "        return 1\n",
    "    return n * factorial(n - 1)\n",
    "\n",
    "# 示例调用\n",
    "print(factorial(10))  # 输出 120"
   ]
  },
  {
   "cell_type": "code",
   "execution_count": null,
   "metadata": {},
   "outputs": [],
   "source": []
  }
 ],
 "metadata": {
  "kernelspec": {
   "display_name": ".venv",
   "language": "python",
   "name": "python3"
  },
  "language_info": {
   "codemirror_mode": {
    "name": "ipython",
    "version": 3
   },
   "file_extension": ".py",
   "mimetype": "text/x-python",
   "name": "python",
   "nbconvert_exporter": "python",
   "pygments_lexer": "ipython3",
   "version": "3.10.11"
  }
 },
 "nbformat": 4,
 "nbformat_minor": 2
}
