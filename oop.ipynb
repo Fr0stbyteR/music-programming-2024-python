{
 "cells": [
  {
   "cell_type": "markdown",
   "id": "95f325df",
   "metadata": {},
   "source": [
    "面向对象编程（Object-Oriented Programming，简称OOP）是一种以对象为核心的编程范式。它通过将数据和操作数据的方法封装在对象中，使程序更具模块化和可维护性。面向对象编程的核心概念包括以下几个方面：\n",
    "\n",
    "1. **类（Class）**：类是对象的蓝图或模板，定义了对象的属性和行为。通过类可以创建多个具有相同结构和功能的对象。\n",
    "\n",
    "2. **对象（Object）**：对象是类的实例，是程序运行时的实体。每个对象都有自己的属性值和方法。\n",
    "\n",
    "3. **封装（Encapsulation）**：封装是将数据和操作数据的方法绑定在一起，并隐藏对象的内部实现细节，只暴露必要的接口。这提高了代码的安全性和可维护性。\n",
    "\n",
    "4. **继承（Inheritance）**：继承允许一个类从另一个类中继承属性和方法，从而实现代码的重用和扩展。子类可以继承父类的功能，同时也可以添加或重写父类的方法。\n",
    "\n",
    "5. **多态（Polymorphism）**：多态允许不同的对象以相同的方式调用方法，而具体的行为取决于对象的实际类型。这使得代码更加灵活和可扩展。\n",
    "\n",
    "6. **抽象（Abstraction）**：抽象是指隐藏复杂的实现细节，仅保留对象的核心功能。通过抽象，可以简化复杂系统的设计和实现。\n",
    "\n",
    "面向对象编程的目标是通过模拟现实世界中的对象及其交互，构建清晰、易于理解和维护的软件系统。它广泛应用于各种编程领域，如桌面应用、Web开发、游戏开发等。"
   ]
  },
  {
   "cell_type": "code",
   "execution_count": null,
   "id": "13d9ca8a",
   "metadata": {},
   "outputs": [],
   "source": [
    "def block_touched(player, block, position, util):\n",
    "    explode(player, block, position, util)\n",
    "    give_damage(player)\n",
    "    make_disappear(block)"
   ]
  },
  {
   "cell_type": "code",
   "execution_count": null,
   "id": "68348a67",
   "metadata": {},
   "outputs": [],
   "source": [
    "class Block:\n",
    "    def touched(self, player, position, util):\n",
    "        self.explode(player, block, position, util)\n",
    "        player.damage(1)\n",
    "        self.destroy()\n",
    "    def explode(self, player, block, position, util):\n",
    "        util.explode(position, 2.0)"
   ]
  },
  {
   "cell_type": "code",
   "execution_count": null,
   "id": "533781c0",
   "metadata": {},
   "outputs": [],
   "source": [
    "class Pokemon:\n",
    "    def __init__(self, name, type_, hp, attack):\n",
    "        self.name = name\n",
    "        self.type = type_\n",
    "        self.hp = hp\n",
    "        self.attack = attack\n",
    "\n",
    "    def take_damage(self, damage):\n",
    "        self.hp -= damage\n",
    "        if self.hp <= 0:\n",
    "            self.hp = 0\n",
    "            print(f\"{self.name} has fainted!\")\n",
    "        else:\n",
    "            print(f\"{self.name} took {damage} damage and has {self.hp} HP left.\")\n",
    "\n",
    "    def attack_opponent(self, opponent):\n",
    "        print(f\"{self.name} attacks {opponent.name}!\")\n",
    "        opponent.take_damage(self.attack)\n",
    "\n",
    "\n",
    "class FirePokemon(Pokemon):\n",
    "    def __init__(self, name, hp, attack):\n",
    "        super().__init__(name, \"Fire\", hp, attack)\n",
    "\n",
    "    def special_move(self, opponent):\n",
    "        print(f\"{self.name} uses Flamethrower on {opponent.name}!\")\n",
    "        opponent.take_damage(self.attack * 1.5)\n",
    "\n",
    "\n",
    "class WaterPokemon(Pokemon):\n",
    "    def __init__(self, name, hp, attack):\n",
    "        super().__init__(name, \"Water\", hp, attack)\n",
    "\n",
    "    def special_move(self, opponent):\n",
    "        print(f\"{self.name} uses Hydro Pump on {opponent.name}!\")\n",
    "        opponent.take_damage(self.attack * 1.5)\n",
    "\n",
    "\n",
    "# 示例\n",
    "charmander = FirePokemon(\"Charmander\", 39, 10)\n",
    "squirtle = WaterPokemon(\"Squirtle\", 44, 8)\n",
    "\n",
    "charmander.attack_opponent(squirtle)\n",
    "squirtle.special_move(charmander)"
   ]
  },
  {
   "cell_type": "code",
   "execution_count": 18,
   "id": "c3311096",
   "metadata": {},
   "outputs": [],
   "source": [
    "class Pokemon:\n",
    "    def __init__(self, name, type_, hp, attack):\n",
    "        self.name = name\n",
    "        self.type = type_\n",
    "        self.hp = hp\n",
    "        self.attack = attack\n",
    "    \n",
    "    def attack_opponent(self, opponent: Pokemon):\n",
    "        print(self.name + \" attacks \" + opponent.name + \"!\")\n",
    "        if self.type == \"fire\" and opponent.type == \"water\":\n",
    "            print(\"效果不好...\")\n",
    "            opponent.take_damage(self.attack * 0.5)\n",
    "        elif self.type == \"water\" and opponent.type == \"fire\":\n",
    "            print(\"效果拔群!\")\n",
    "            opponent.take_damage(self.attack * 2)\n",
    "        else:\n",
    "            opponent.take_damage(self.attack)\n",
    "\n",
    "    def take_damage(self, damage: float):\n",
    "        self.hp -= damage\n",
    "        if self.hp <= 0:\n",
    "            self.hp = 0\n",
    "            print(self.name + \" has fainted!\")\n",
    "        else:\n",
    "            print(self.name + \" took \" + str(damage) + \" damage and has \" + str(self.hp) + \" HP left.\")"
   ]
  },
  {
   "cell_type": "code",
   "execution_count": 19,
   "id": "ccdba058",
   "metadata": {},
   "outputs": [],
   "source": [
    "class FirePokemon(Pokemon):\n",
    "    def __init__(self, name: str, hp: float, attack: float):\n",
    "        super().__init__(name, \"fire\", hp, attack)\n",
    "    \n",
    "    def special_move(self, opponent: Pokemon):\n",
    "        print(self.name + \"对\" + opponent.name + \"使用了火焰喷射！🔥\")\n",
    "        opponent.take_damage(self.attack * 1.5)\n",
    "\n",
    "class WaterPokemon(Pokemon):\n",
    "    def __init__(self, name: str, hp: float, attack: float):\n",
    "        super().__init__(name, \"water\", hp, attack)\n",
    "    \n",
    "    def special_move(self, opponent: Pokemon):\n",
    "        print(self.name + \"对\" + opponent.name + \"使用了水枪！💧\")\n",
    "        opponent.take_damage(self.attack * 1.5)\n"
   ]
  },
  {
   "cell_type": "code",
   "execution_count": 20,
   "id": "07983fb9",
   "metadata": {},
   "outputs": [
    {
     "name": "stdout",
     "output_type": "stream",
     "text": [
      "小火龙 100\n",
      "杰尼龟 100\n"
     ]
    }
   ],
   "source": [
    "charmander = FirePokemon(\"小火龙\", 100, 10)\n",
    "print(charmander.name, charmander.hp)\n",
    "squirtle = WaterPokemon(\"杰尼龟\", 100, 15)\n",
    "print(squirtle.name, squirtle.hp)"
   ]
  },
  {
   "cell_type": "code",
   "execution_count": 21,
   "id": "2f2e0dc0",
   "metadata": {},
   "outputs": [
    {
     "name": "stdout",
     "output_type": "stream",
     "text": [
      "杰尼龟 attacks 小火龙!\n",
      "效果拔群!\n",
      "小火龙 took 30 damage and has 70 HP left.\n",
      "小火龙 attacks 杰尼龟!\n",
      "效果不好...\n",
      "杰尼龟 took 5.0 damage and has 95.0 HP left.\n"
     ]
    }
   ],
   "source": [
    "squirtle.attack_opponent(charmander)\n",
    "charmander.attack_opponent(squirtle)"
   ]
  },
  {
   "cell_type": "code",
   "execution_count": null,
   "id": "8283372c",
   "metadata": {},
   "outputs": [],
   "source": [
    "!pip install pyside6"
   ]
  }
 ],
 "metadata": {
  "kernelspec": {
   "display_name": ".venv",
   "language": "python",
   "name": "python3"
  },
  "language_info": {
   "codemirror_mode": {
    "name": "ipython",
    "version": 3
   },
   "file_extension": ".py",
   "mimetype": "text/x-python",
   "name": "python",
   "nbconvert_exporter": "python",
   "pygments_lexer": "ipython3",
   "version": "3.10.11"
  }
 },
 "nbformat": 4,
 "nbformat_minor": 5
}
