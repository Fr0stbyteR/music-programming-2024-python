{
 "cells": [
  {
   "cell_type": "code",
   "execution_count": 1,
   "id": "7a95e9ca",
   "metadata": {},
   "outputs": [],
   "source": [
    "\n",
    "import mido\n",
    "# pip install mido pygame\n",
    "mido.set_backend(\"mido.backends.pygame\")"
   ]
  },
  {
   "cell_type": "code",
   "execution_count": 2,
   "id": "91aec351",
   "metadata": {},
   "outputs": [
    {
     "name": "stdout",
     "output_type": "stream",
     "text": [
      "pygame 2.6.1 (SDL 2.28.4, Python 3.10.11)\n",
      "Hello from the pygame community. https://www.pygame.org/contribute.html\n"
     ]
    },
    {
     "data": {
      "text/plain": [
       "['Microsoft MIDI Mapper',\n",
       " 'Microsoft GS Wavetable Synth',\n",
       " 'loopMIDI Port',\n",
       " 'Babyface Midi Port 1']"
      ]
     },
     "execution_count": 2,
     "metadata": {},
     "output_type": "execute_result"
    }
   ],
   "source": [
    "mido.get_output_names()"
   ]
  },
  {
   "cell_type": "code",
   "execution_count": 21,
   "id": "d5fff024",
   "metadata": {},
   "outputs": [],
   "source": [
    "output = mido.open_output(\"loopMIDI Port\")"
   ]
  },
  {
   "cell_type": "code",
   "execution_count": 4,
   "id": "3d54e7f2",
   "metadata": {},
   "outputs": [],
   "source": [
    "output.send(mido.Message(\"note_on\", note=60, velocity=64))"
   ]
  },
  {
   "cell_type": "code",
   "execution_count": 5,
   "id": "96ca785a",
   "metadata": {},
   "outputs": [],
   "source": [
    "output.send(mido.Message(\"note_off\", note=60, velocity=64))"
   ]
  },
  {
   "cell_type": "code",
   "execution_count": 7,
   "id": "d6ecebe7",
   "metadata": {},
   "outputs": [],
   "source": [
    "import time"
   ]
  },
  {
   "cell_type": "code",
   "execution_count": 9,
   "id": "7b958f73",
   "metadata": {},
   "outputs": [],
   "source": [
    "def play_note(note, velocity=64, channel=0, duration=1):\n",
    "    output.send(mido.Message(\"note_on\", note=note, velocity=velocity, channel=channel))\n",
    "    time.sleep(duration)\n",
    "    output.send(mido.Message(\"note_off\", note=note, velocity=velocity,channel=channel))"
   ]
  },
  {
   "cell_type": "code",
   "execution_count": 26,
   "id": "1364203c",
   "metadata": {},
   "outputs": [],
   "source": [
    "def play_sequence(note_list, velocity=64, channel=0, duration=1):\n",
    "    for note in note_list:\n",
    "        play_note(note, velocity, channel, duration)"
   ]
  },
  {
   "cell_type": "code",
   "execution_count": 31,
   "id": "4e96aecf",
   "metadata": {},
   "outputs": [],
   "source": [
    "import threading\n",
    "threading.Thread(target=play_sequence, args=([60, 64, 67] * 5, 64, 0, 1), daemon=True).start()\n",
    "threading.Thread(target=play_sequence, args=([62, 65, 69] * 5, 64, 1, 1), daemon=True).start()"
   ]
  },
  {
   "cell_type": "code",
   "execution_count": null,
   "id": "162f7f70",
   "metadata": {},
   "outputs": [],
   "source": [
    "play_note(60, 64, 0, 1)  # Play middle C for 1 second\n",
    "play_note(62, 64, 1, 1)  # Play D for 1 second\n"
   ]
  },
  {
   "cell_type": "code",
   "execution_count": 15,
   "id": "95a43926",
   "metadata": {},
   "outputs": [],
   "source": [
    "output.send(mido.Message(\"program_change\", program=56, channel=0))\n",
    "output.send(mido.Message(\"program_change\", program=78, channel=1))"
   ]
  }
 ],
 "metadata": {
  "kernelspec": {
   "display_name": ".venv",
   "language": "python",
   "name": "python3"
  },
  "language_info": {
   "codemirror_mode": {
    "name": "ipython",
    "version": 3
   },
   "file_extension": ".py",
   "mimetype": "text/x-python",
   "name": "python",
   "nbconvert_exporter": "python",
   "pygments_lexer": "ipython3",
   "version": "3.10.11"
  }
 },
 "nbformat": 4,
 "nbformat_minor": 5
}
